{
 "cells": [
  {
   "cell_type": "markdown",
   "id": "a9b31eee",
   "metadata": {},
   "source": [
    "# Supplementary Notebook for 'Anong Say ng Presidente Mo?'\n",
    "## Using Twitter API"
   ]
  },
  {
   "cell_type": "markdown",
   "id": "ca9fbcde",
   "metadata": {},
   "source": [
    "The following set of cells contains the Python implementation in accessing and retrieving data from Twitter API:"
   ]
  },
  {
   "cell_type": "markdown",
   "id": "0743e73b",
   "metadata": {},
   "source": [
    "**Importing libraries**"
   ]
  },
  {
   "cell_type": "code",
   "execution_count": 15,
   "id": "ded2ab41",
   "metadata": {
    "ExecuteTime": {
     "end_time": "2021-11-23T08:19:58.943138Z",
     "start_time": "2021-11-23T08:19:58.938176Z"
    }
   },
   "outputs": [],
   "source": [
    "import requests\n",
    "import json\n",
    "import getpass\n",
    "import pandas as pd"
   ]
  },
  {
   "cell_type": "markdown",
   "id": "c8b20072",
   "metadata": {},
   "source": [
    "**Storing personal bearer token**"
   ]
  },
  {
   "cell_type": "code",
   "execution_count": null,
   "id": "f0aa4629",
   "metadata": {
    "ExecuteTime": {
     "end_time": "2021-11-22T21:25:00.229907Z",
     "start_time": "2021-11-22T21:24:54.498379Z"
    }
   },
   "outputs": [],
   "source": [
    "bearer_token = getpass.getpass()"
   ]
  },
  {
   "cell_type": "markdown",
   "id": "5728c619",
   "metadata": {},
   "source": [
    "**Retrieving user IDs by twitter handles**"
   ]
  },
  {
   "cell_type": "code",
   "execution_count": null,
   "id": "8c3b2742",
   "metadata": {
    "ExecuteTime": {
     "end_time": "2021-11-24T05:50:23.876693Z",
     "start_time": "2021-11-24T05:50:23.442514Z"
    }
   },
   "outputs": [],
   "source": [
    "userids = requests.get(\n",
    "    'https://api.twitter.com/2/users/by', \n",
    "    params={\n",
    "        'usernames': 'lenirobredo,bongbongmarcos,IskoMoreno,SAPBongGo,MannyPacquiao,iampinglacson,leodymanggagawa'\n",
    "    },\n",
    "    headers={\n",
    "        'Authorization': f'Bearer {bearer_token}'\n",
    "    }\n",
    ").json()"
   ]
  },
  {
   "cell_type": "code",
   "execution_count": 43,
   "id": "c298694e",
   "metadata": {
    "ExecuteTime": {
     "end_time": "2021-11-24T05:51:16.266332Z",
     "start_time": "2021-11-24T05:51:16.251850Z"
    }
   },
   "outputs": [
    {
     "data": {
      "text/html": [
       "<div>\n",
       "<style scoped>\n",
       "    .dataframe tbody tr th:only-of-type {\n",
       "        vertical-align: middle;\n",
       "    }\n",
       "\n",
       "    .dataframe tbody tr th {\n",
       "        vertical-align: top;\n",
       "    }\n",
       "\n",
       "    .dataframe thead th {\n",
       "        text-align: right;\n",
       "    }\n",
       "</style>\n",
       "<table border=\"1\" class=\"dataframe\">\n",
       "  <thead>\n",
       "    <tr style=\"text-align: right;\">\n",
       "      <th></th>\n",
       "      <th>id</th>\n",
       "      <th>name</th>\n",
       "      <th>username</th>\n",
       "    </tr>\n",
       "  </thead>\n",
       "  <tbody>\n",
       "    <tr>\n",
       "      <th>0</th>\n",
       "      <td>47211842</td>\n",
       "      <td>Leni Robredo</td>\n",
       "      <td>lenirobredo</td>\n",
       "    </tr>\n",
       "    <tr>\n",
       "      <th>1</th>\n",
       "      <td>40204534</td>\n",
       "      <td>Bongbong Marcos</td>\n",
       "      <td>bongbongmarcos</td>\n",
       "    </tr>\n",
       "    <tr>\n",
       "      <th>2</th>\n",
       "      <td>998813499714224128</td>\n",
       "      <td>Isko Moreno Domagoso</td>\n",
       "      <td>IskoMoreno</td>\n",
       "    </tr>\n",
       "    <tr>\n",
       "      <th>3</th>\n",
       "      <td>1017117269975916544</td>\n",
       "      <td>Bong Go</td>\n",
       "      <td>SAPBongGo</td>\n",
       "    </tr>\n",
       "    <tr>\n",
       "      <th>4</th>\n",
       "      <td>254098644</td>\n",
       "      <td>Manny Pacquiao</td>\n",
       "      <td>MannyPacquiao</td>\n",
       "    </tr>\n",
       "    <tr>\n",
       "      <th>5</th>\n",
       "      <td>3007716060</td>\n",
       "      <td>PING LACSON</td>\n",
       "      <td>iampinglacson</td>\n",
       "    </tr>\n",
       "    <tr>\n",
       "      <th>6</th>\n",
       "      <td>1094854697595346946</td>\n",
       "      <td>Ka Leody de Guzman</td>\n",
       "      <td>LeodyManggagawa</td>\n",
       "    </tr>\n",
       "  </tbody>\n",
       "</table>\n",
       "</div>"
      ],
      "text/plain": [
       "                    id                  name         username\n",
       "0             47211842          Leni Robredo      lenirobredo\n",
       "1             40204534       Bongbong Marcos   bongbongmarcos\n",
       "2   998813499714224128  Isko Moreno Domagoso       IskoMoreno\n",
       "3  1017117269975916544               Bong Go        SAPBongGo\n",
       "4            254098644        Manny Pacquiao    MannyPacquiao\n",
       "5           3007716060           PING LACSON    iampinglacson\n",
       "6  1094854697595346946    Ka Leody de Guzman  LeodyManggagawa"
      ]
     },
     "execution_count": 43,
     "metadata": {},
     "output_type": "execute_result"
    }
   ],
   "source": [
    "candidates = pd.json_normalize(userids['data'])\n",
    "candidates"
   ]
  },
  {
   "cell_type": "markdown",
   "id": "597e3ebe",
   "metadata": {},
   "source": [
    "**Getting all tweets of the targeted users**"
   ]
  },
  {
   "cell_type": "code",
   "execution_count": 78,
   "id": "6c853f4b",
   "metadata": {
    "ExecuteTime": {
     "end_time": "2021-11-24T14:48:37.356841Z",
     "start_time": "2021-11-24T14:47:59.283531Z"
    }
   },
   "outputs": [
    {
     "data": {
      "text/html": [
       "<div>\n",
       "<style scoped>\n",
       "    .dataframe tbody tr th:only-of-type {\n",
       "        vertical-align: middle;\n",
       "    }\n",
       "\n",
       "    .dataframe tbody tr th {\n",
       "        vertical-align: top;\n",
       "    }\n",
       "\n",
       "    .dataframe thead th {\n",
       "        text-align: right;\n",
       "    }\n",
       "</style>\n",
       "<table border=\"1\" class=\"dataframe\">\n",
       "  <thead>\n",
       "    <tr style=\"text-align: right;\">\n",
       "      <th></th>\n",
       "      <th>id</th>\n",
       "      <th>created_at</th>\n",
       "      <th>text</th>\n",
       "      <th>public_metrics.retweet_count</th>\n",
       "      <th>public_metrics.reply_count</th>\n",
       "      <th>public_metrics.like_count</th>\n",
       "      <th>public_metrics.quote_count</th>\n",
       "      <th>username</th>\n",
       "    </tr>\n",
       "  </thead>\n",
       "  <tbody>\n",
       "    <tr>\n",
       "      <th>0</th>\n",
       "      <td>1462771275068182536</td>\n",
       "      <td>2021-11-22T13:13:43.000Z</td>\n",
       "      <td>The first shipment of Molnupiravir arrived in ...</td>\n",
       "      <td>490</td>\n",
       "      <td>25</td>\n",
       "      <td>4446</td>\n",
       "      <td>62</td>\n",
       "      <td>lenirobredo</td>\n",
       "    </tr>\n",
       "    <tr>\n",
       "      <th>1</th>\n",
       "      <td>1462771273537228802</td>\n",
       "      <td>2021-11-22T13:13:43.000Z</td>\n",
       "      <td>In the agreement, the OVP will issue a guarant...</td>\n",
       "      <td>404</td>\n",
       "      <td>15</td>\n",
       "      <td>3900</td>\n",
       "      <td>7</td>\n",
       "      <td>lenirobredo</td>\n",
       "    </tr>\n",
       "    <tr>\n",
       "      <th>2</th>\n",
       "      <td>1462771270773194753</td>\n",
       "      <td>2021-11-22T13:13:42.000Z</td>\n",
       "      <td>Molnupiravir, an oral pill for the treatment o...</td>\n",
       "      <td>8454</td>\n",
       "      <td>274</td>\n",
       "      <td>34237</td>\n",
       "      <td>1287</td>\n",
       "      <td>lenirobredo</td>\n",
       "    </tr>\n",
       "    <tr>\n",
       "      <th>3</th>\n",
       "      <td>1461314152924803079</td>\n",
       "      <td>2021-11-18T12:43:38.000Z</td>\n",
       "      <td>Dami na naman nangyayari 🔥 \\n\\nPero ito ang us...</td>\n",
       "      <td>4154</td>\n",
       "      <td>434</td>\n",
       "      <td>62592</td>\n",
       "      <td>763</td>\n",
       "      <td>lenirobredo</td>\n",
       "    </tr>\n",
       "    <tr>\n",
       "      <th>4</th>\n",
       "      <td>1460634783189331968</td>\n",
       "      <td>2021-11-16T15:44:04.000Z</td>\n",
       "      <td>There’s a new baby in the house and it was lov...</td>\n",
       "      <td>1838</td>\n",
       "      <td>320</td>\n",
       "      <td>38477</td>\n",
       "      <td>321</td>\n",
       "      <td>lenirobredo</td>\n",
       "    </tr>\n",
       "    <tr>\n",
       "      <th>...</th>\n",
       "      <td>...</td>\n",
       "      <td>...</td>\n",
       "      <td>...</td>\n",
       "      <td>...</td>\n",
       "      <td>...</td>\n",
       "      <td>...</td>\n",
       "      <td>...</td>\n",
       "      <td>...</td>\n",
       "    </tr>\n",
       "    <tr>\n",
       "      <th>4914</th>\n",
       "      <td>1095212099255422976</td>\n",
       "      <td>2019-02-12T06:44:47.000Z</td>\n",
       "      <td>Sundan ang campaign trail ni Ka Leody sa Talis...</td>\n",
       "      <td>4</td>\n",
       "      <td>0</td>\n",
       "      <td>16</td>\n",
       "      <td>0</td>\n",
       "      <td>LeodyManggagawa</td>\n",
       "    </tr>\n",
       "    <tr>\n",
       "      <th>4915</th>\n",
       "      <td>1095157845526405120</td>\n",
       "      <td>2019-02-12T03:09:12.000Z</td>\n",
       "      <td>Tuloy lang po tayo! #ManggagawaNaman ✊ https:/...</td>\n",
       "      <td>2</td>\n",
       "      <td>1</td>\n",
       "      <td>9</td>\n",
       "      <td>0</td>\n",
       "      <td>LeodyManggagawa</td>\n",
       "    </tr>\n",
       "    <tr>\n",
       "      <th>4916</th>\n",
       "      <td>1095157626713722880</td>\n",
       "      <td>2019-02-12T03:08:19.000Z</td>\n",
       "      <td>Maraming salamat po! #ManggagawaNaman ✊ https:...</td>\n",
       "      <td>0</td>\n",
       "      <td>0</td>\n",
       "      <td>4</td>\n",
       "      <td>0</td>\n",
       "      <td>LeodyManggagawa</td>\n",
       "    </tr>\n",
       "    <tr>\n",
       "      <th>4917</th>\n",
       "      <td>1095117782402977793</td>\n",
       "      <td>2019-02-12T00:30:00.000Z</td>\n",
       "      <td>Maaaring nang sundan ang kampanya ni Ka Leody ...</td>\n",
       "      <td>81</td>\n",
       "      <td>0</td>\n",
       "      <td>299</td>\n",
       "      <td>0</td>\n",
       "      <td>LeodyManggagawa</td>\n",
       "    </tr>\n",
       "    <tr>\n",
       "      <th>4918</th>\n",
       "      <td>1095110233460957184</td>\n",
       "      <td>2019-02-12T00:00:00.000Z</td>\n",
       "      <td>Magandang araw! Para sa paunang tweet, kilalan...</td>\n",
       "      <td>84</td>\n",
       "      <td>0</td>\n",
       "      <td>178</td>\n",
       "      <td>11</td>\n",
       "      <td>LeodyManggagawa</td>\n",
       "    </tr>\n",
       "  </tbody>\n",
       "</table>\n",
       "<p>4919 rows × 8 columns</p>\n",
       "</div>"
      ],
      "text/plain": [
       "                       id                created_at  \\\n",
       "0     1462771275068182536  2021-11-22T13:13:43.000Z   \n",
       "1     1462771273537228802  2021-11-22T13:13:43.000Z   \n",
       "2     1462771270773194753  2021-11-22T13:13:42.000Z   \n",
       "3     1461314152924803079  2021-11-18T12:43:38.000Z   \n",
       "4     1460634783189331968  2021-11-16T15:44:04.000Z   \n",
       "...                   ...                       ...   \n",
       "4914  1095212099255422976  2019-02-12T06:44:47.000Z   \n",
       "4915  1095157845526405120  2019-02-12T03:09:12.000Z   \n",
       "4916  1095157626713722880  2019-02-12T03:08:19.000Z   \n",
       "4917  1095117782402977793  2019-02-12T00:30:00.000Z   \n",
       "4918  1095110233460957184  2019-02-12T00:00:00.000Z   \n",
       "\n",
       "                                                   text  \\\n",
       "0     The first shipment of Molnupiravir arrived in ...   \n",
       "1     In the agreement, the OVP will issue a guarant...   \n",
       "2     Molnupiravir, an oral pill for the treatment o...   \n",
       "3     Dami na naman nangyayari 🔥 \\n\\nPero ito ang us...   \n",
       "4     There’s a new baby in the house and it was lov...   \n",
       "...                                                 ...   \n",
       "4914  Sundan ang campaign trail ni Ka Leody sa Talis...   \n",
       "4915  Tuloy lang po tayo! #ManggagawaNaman ✊ https:/...   \n",
       "4916  Maraming salamat po! #ManggagawaNaman ✊ https:...   \n",
       "4917  Maaaring nang sundan ang kampanya ni Ka Leody ...   \n",
       "4918  Magandang araw! Para sa paunang tweet, kilalan...   \n",
       "\n",
       "      public_metrics.retweet_count  public_metrics.reply_count  \\\n",
       "0                              490                          25   \n",
       "1                              404                          15   \n",
       "2                             8454                         274   \n",
       "3                             4154                         434   \n",
       "4                             1838                         320   \n",
       "...                            ...                         ...   \n",
       "4914                             4                           0   \n",
       "4915                             2                           1   \n",
       "4916                             0                           0   \n",
       "4917                            81                           0   \n",
       "4918                            84                           0   \n",
       "\n",
       "      public_metrics.like_count  public_metrics.quote_count         username  \n",
       "0                          4446                          62      lenirobredo  \n",
       "1                          3900                           7      lenirobredo  \n",
       "2                         34237                        1287      lenirobredo  \n",
       "3                         62592                         763      lenirobredo  \n",
       "4                         38477                         321      lenirobredo  \n",
       "...                         ...                         ...              ...  \n",
       "4914                         16                           0  LeodyManggagawa  \n",
       "4915                          9                           0  LeodyManggagawa  \n",
       "4916                          4                           0  LeodyManggagawa  \n",
       "4917                        299                           0  LeodyManggagawa  \n",
       "4918                        178                          11  LeodyManggagawa  \n",
       "\n",
       "[4919 rows x 8 columns]"
      ]
     },
     "execution_count": 78,
     "metadata": {},
     "output_type": "execute_result"
    }
   ],
   "source": [
    "df_tweets = pd.DataFrame()\n",
    "\n",
    "for i in range(len(candidates)):\n",
    "    #Loop through candidates\n",
    "    user_id = candidates.iloc[i]['id']\n",
    "    next_token = None\n",
    "    \n",
    "    # Get ten requests, 100 tweets each request\n",
    "    for j in range(10):\n",
    "        # First request, no next page token\n",
    "        if j==0:\n",
    "            tweets = requests.get(\n",
    "                f'https://api.twitter.com/2/users/{user_id}/tweets', \n",
    "                params={\n",
    "                    'exclude': 'retweets,replies',\n",
    "                    'tweet.fields': 'public_metrics,created_at',\n",
    "                    'max_results': 100\n",
    "                },\n",
    "                headers={\n",
    "                    'Authorization': f'Bearer {bearer_token}'\n",
    "                }\n",
    "            ).json()\n",
    "        # Succeeding requests, with next page token\n",
    "        elif next_token is not None:\n",
    "            tweets = requests.get(\n",
    "                f'https://api.twitter.com/2/users/{user_id}/tweets', \n",
    "                params={\n",
    "                    'exclude': 'retweets,replies',\n",
    "                    'tweet.fields': 'public_metrics,created_at',\n",
    "                    'max_results': 100,\n",
    "                    'pagination_token': next_token\n",
    "                },\n",
    "                headers={\n",
    "                    'Authorization': f'Bearer {bearer_token}'\n",
    "                }\n",
    "            ).json()\n",
    "        else:\n",
    "            continue\n",
    "        \n",
    "        try:\n",
    "            next_token = tweets['meta']['next_token']\n",
    "        except KeyError:\n",
    "            next_token = None\n",
    "        \n",
    "        df_candidate_tweets = pd.json_normalize(data=tweets['data'])\n",
    "        df_candidate_tweets['username'] = candidates.iloc[i]['username']\n",
    "\n",
    "        if j==0 and i==0:\n",
    "            df_tweets = df_candidate_tweets\n",
    "        else:\n",
    "            df_tweets = df_tweets.append(df_candidate_tweets, ignore_index=True)\n",
    "        \n",
    "df_tweets"
   ]
  },
  {
   "cell_type": "markdown",
   "id": "585b94d8",
   "metadata": {},
   "source": [
    "**Storing to a CSV file**"
   ]
  },
  {
   "cell_type": "code",
   "execution_count": 79,
   "id": "99417507",
   "metadata": {
    "ExecuteTime": {
     "end_time": "2021-11-24T14:48:51.647865Z",
     "start_time": "2021-11-24T14:48:51.582543Z"
    }
   },
   "outputs": [],
   "source": [
    "df_tweets.to_csv('candidate_tweets.csv')"
   ]
  }
 ],
 "metadata": {
  "kernelspec": {
   "display_name": "Python 3 (ipykernel)",
   "language": "python",
   "name": "python3"
  },
  "language_info": {
   "codemirror_mode": {
    "name": "ipython",
    "version": 3
   },
   "file_extension": ".py",
   "mimetype": "text/x-python",
   "name": "python",
   "nbconvert_exporter": "python",
   "pygments_lexer": "ipython3",
   "version": "3.9.6"
  }
 },
 "nbformat": 4,
 "nbformat_minor": 5
}
